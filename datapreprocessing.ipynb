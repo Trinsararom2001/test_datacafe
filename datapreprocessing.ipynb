{
 "cells": [
  {
   "cell_type": "code",
   "execution_count": 1,
   "metadata": {},
   "outputs": [],
   "source": [
    "# import library\n",
    "import pandas as pd #data manipulate\n",
    "import numpy as np # function (math,arrays)\n",
    "import datetime #time"
   ]
  },
  {
   "cell_type": "code",
   "execution_count": 3,
   "metadata": {},
   "outputs": [],
   "source": [
    "url_causal_lookup = 'dh_causal_lookup.csv'\n",
    "url_product_lookup = 'dh_product_lookup.csv'\n",
    "url_store_lookup = 'dh_store_lookup.csv'\n",
    "url_transactions = 'dh_transactions.csv'"
   ]
  },
  {
   "cell_type": "code",
   "execution_count": 4,
   "metadata": {},
   "outputs": [],
   "source": [
    "def preprocess_data(url_causal_lookup, url_product_lookup, url_store_lookup, url_transactions):\n",
    "    # Read data from CSV files\n",
    "    df_causal_lookup = pd.read_csv(url_causal_lookup)\n",
    "    df_product_lookup = pd.read_csv(url_product_lookup)\n",
    "    df_store_lookup = pd.read_csv(url_store_lookup)\n",
    "    df_transactions = pd.read_csv(url_transactions)\n",
    "\n",
    "    # Perform inner join on 'upc' column between df_transactions and df_product_lookup\n",
    "    merged_df = pd.merge(df_transactions, df_product_lookup, on='upc', how='inner')\n",
    "\n",
    "    # Define the start date\n",
    "    start_date = datetime.date(2020, 1, 1)\n",
    "\n",
    "    # Define a function to convert week and day to date\n",
    "    def convert_to_date(row):\n",
    "        # Calculate the number of days to add based on week and day\n",
    "        days_to_add = (row['week'] - 1) * 7 + (row['day'] - 1)\n",
    "        # Add the calculated number of days to the start date\n",
    "        return start_date + datetime.timedelta(days=days_to_add)\n",
    "\n",
    "    # Apply the function to create a new column 'date'\n",
    "    merged_df['date'] = merged_df.apply(convert_to_date, axis=1)\n",
    "\n",
    "    return merged_df"
   ]
  },
  {
   "cell_type": "code",
   "execution_count": 5,
   "metadata": {},
   "outputs": [
    {
     "name": "stderr",
     "output_type": "stream",
     "text": [
      "C:\\Users\\kan43\\AppData\\Local\\Temp\\ipykernel_20656\\1388474353.py:4: FutureWarning: Indexing with multiple keys (implicitly converted to a tuple of keys) will be deprecated, use a list instead.\n",
      "  df_mean = preprocessed_data.groupby(['date', 'commodity'])['dollar_sales','units','time_of_transaction'].mean().reset_index()\n",
      "C:\\Users\\kan43\\AppData\\Local\\Temp\\ipykernel_20656\\1388474353.py:5: FutureWarning: Indexing with multiple keys (implicitly converted to a tuple of keys) will be deprecated, use a list instead.\n",
      "  df_sum = preprocessed_data.groupby(['date', 'commodity'])['dollar_sales','units','time_of_transaction'].sum().reset_index()\n",
      "C:\\Users\\kan43\\AppData\\Local\\Temp\\ipykernel_20656\\1388474353.py:6: FutureWarning: Indexing with multiple keys (implicitly converted to a tuple of keys) will be deprecated, use a list instead.\n",
      "  df_count = preprocessed_data.groupby(['date', 'commodity'])['dollar_sales','units','time_of_transaction'].count().reset_index()\n"
     ]
    }
   ],
   "source": [
    "preprocessed_data = preprocess_data(url_causal_lookup, url_product_lookup, url_store_lookup, url_transactions)\n",
    "\n",
    "\n",
    "df_mean = preprocessed_data.groupby(['date', 'commodity'])['dollar_sales','units','time_of_transaction'].mean().reset_index()\n",
    "df_sum = preprocessed_data.groupby(['date', 'commodity'])['dollar_sales','units','time_of_transaction'].sum().reset_index()"
   ]
  },
  {
   "cell_type": "code",
   "execution_count": 7,
   "metadata": {},
   "outputs": [],
   "source": [
    "df_mean.to_csv('df_mean', index=False)\n",
    "df_sum.to_csv('df_sum', index=False)"
   ]
  }
 ],
 "metadata": {
  "kernelspec": {
   "display_name": "Python 3",
   "language": "python",
   "name": "python3"
  },
  "language_info": {
   "codemirror_mode": {
    "name": "ipython",
    "version": 3
   },
   "file_extension": ".py",
   "mimetype": "text/x-python",
   "name": "python",
   "nbconvert_exporter": "python",
   "pygments_lexer": "ipython3",
   "version": "3.9.12"
  }
 },
 "nbformat": 4,
 "nbformat_minor": 2
}
